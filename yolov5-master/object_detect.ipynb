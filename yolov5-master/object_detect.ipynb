{
 "cells": [
  {
   "cell_type": "code",
   "execution_count": 14,
   "metadata": {},
   "outputs": [
    {
     "data": {
      "text/plain": [
       "['0 0.833333 0.203704 0.08125 0.327778\\n',\n",
       " '2 0.595312 0.596296 0.034375 0.05\\n',\n",
       " '2 0.492188 0.621296 0.0541667 0.0518519\\n',\n",
       " '3 0.0294271 0.672685 0.0578125 0.0935185\\n',\n",
       " '0 0.141406 0.650463 0.0223958 0.0712963\\n',\n",
       " '0 0.604688 0.688426 0.0166667 0.0972222\\n',\n",
       " '2 0.440104 0.625 0.0427083 0.0537037\\n',\n",
       " '2 0.974219 0.637963 0.0515625 0.0685185\\n',\n",
       " '2 0.486719 0.648611 0.0588542 0.0601852\\n',\n",
       " '3 0.63151 0.734259 0.0328125 0.0759259\\n',\n",
       " '2 0.580729 0.661574 0.05 0.0768519\\n',\n",
       " '2 0.5375 0.626389 0.04375 0.0638889\\n',\n",
       " '0 0.633854 0.698148 0.0270833 0.105556\\n',\n",
       " '9 0.658854 0.44213 0.0333333 0.0768519\\n',\n",
       " '9 0.772917 0.438889 0.021875 0.0666667\\n',\n",
       " '2 0.36224 0.69213 0.127604 0.139815\\n',\n",
       " '2 0.441146 0.7125 0.121875 0.121296\\n',\n",
       " '2 0.536719 0.718056 0.106771 0.128704\\n']"
      ]
     },
     "execution_count": 14,
     "metadata": {},
     "output_type": "execute_result"
    }
   ],
   "source": [
    "import os\n",
    "filepath = os.getcwd()+\"/runs/detect/exp2/labels\"\n",
    "dir_list = os.listdir(filepath)\n",
    "file_list = []\n",
    "for i in range(len(dir_list)):\n",
    "    for filename in dir_list:\n",
    "        _splittemp = filename.split(\"_\")[1].split(\".\")[0]\n",
    "        if(i+1 == int(filename.split(\"_\")[1].split(\".\")[0])):\n",
    "            # print(\"found\")\n",
    "            file_list.append(filename)\n",
    "\n",
    "video_frames = []\n",
    "for frames in file_list:\n",
    "    with open(filepath+\"/\"+frames) as f:\n",
    "        lines = f.readlines()\n",
    "        video_frames.append(lines)\n",
    "video_frames[0]"
   ]
  },
  {
   "cell_type": "code",
   "execution_count": null,
   "metadata": {},
   "outputs": [],
   "source": [
    "video_frames[0]"
   ]
  }
 ],
 "metadata": {
  "interpreter": {
   "hash": "eeaf961c284b230fbf87ffa7e7575036b668c2752f74739f7423143c2dee364a"
  },
  "kernelspec": {
   "display_name": "Python 3.7.9 64-bit ('myenv': conda)",
   "language": "python",
   "name": "python3"
  },
  "language_info": {
   "codemirror_mode": {
    "name": "ipython",
    "version": 3
   },
   "file_extension": ".py",
   "mimetype": "text/x-python",
   "name": "python",
   "nbconvert_exporter": "python",
   "pygments_lexer": "ipython3",
   "version": "3.7.9"
  },
  "orig_nbformat": 4
 },
 "nbformat": 4,
 "nbformat_minor": 2
}
